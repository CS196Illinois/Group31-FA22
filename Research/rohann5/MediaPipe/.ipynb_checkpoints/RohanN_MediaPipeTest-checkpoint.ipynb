{
 "cells": [
  {
   "cell_type": "code",
   "execution_count": 100,
   "id": "5c6f8a90",
   "metadata": {},
   "outputs": [],
   "source": [
    "#Tutorial Link: https://morioh.com/p/e1b81be4bb0f "
   ]
  },
  {
   "cell_type": "code",
   "execution_count": 101,
   "id": "831c3696",
   "metadata": {},
   "outputs": [
    {
     "name": "stdout",
     "output_type": "stream",
     "text": [
      "Requirement already satisfied: mediapipe in c:\\users\\rohan\\appdata\\local\\programs\\python\\python310\\lib\\site-packages (0.8.11)\n",
      "Requirement already satisfied: opencv-python in c:\\users\\rohan\\appdata\\local\\programs\\python\\python310\\lib\\site-packages (4.6.0.66)\n",
      "Requirement already satisfied: attrs>=19.1.0 in c:\\users\\rohan\\appdata\\local\\programs\\python\\python310\\lib\\site-packages (from mediapipe) (22.1.0)\n",
      "Requirement already satisfied: numpy in c:\\users\\rohan\\appdata\\local\\programs\\python\\python310\\lib\\site-packages (from mediapipe) (1.23.4)\n",
      "Requirement already satisfied: opencv-contrib-python in c:\\users\\rohan\\appdata\\local\\programs\\python\\python310\\lib\\site-packages (from mediapipe) (4.6.0.66)\n",
      "Requirement already satisfied: absl-py in c:\\users\\rohan\\appdata\\local\\programs\\python\\python310\\lib\\site-packages (from mediapipe) (1.3.0)\n",
      "Requirement already satisfied: protobuf<4,>=3.11 in c:\\users\\rohan\\appdata\\local\\programs\\python\\python310\\lib\\site-packages (from mediapipe) (3.19.6)\n",
      "Requirement already satisfied: matplotlib in c:\\users\\rohan\\appdata\\local\\programs\\python\\python310\\lib\\site-packages (from mediapipe) (3.6.1)\n",
      "Requirement already satisfied: cycler>=0.10 in c:\\users\\rohan\\appdata\\local\\programs\\python\\python310\\lib\\site-packages (from matplotlib->mediapipe) (0.11.0)\n",
      "Requirement already satisfied: contourpy>=1.0.1 in c:\\users\\rohan\\appdata\\local\\programs\\python\\python310\\lib\\site-packages (from matplotlib->mediapipe) (1.0.5)\n",
      "Requirement already satisfied: python-dateutil>=2.7 in c:\\users\\rohan\\appdata\\local\\programs\\python\\python310\\lib\\site-packages (from matplotlib->mediapipe) (2.8.2)\n",
      "Requirement already satisfied: fonttools>=4.22.0 in c:\\users\\rohan\\appdata\\local\\programs\\python\\python310\\lib\\site-packages (from matplotlib->mediapipe) (4.37.4)\n",
      "Requirement already satisfied: pillow>=6.2.0 in c:\\users\\rohan\\appdata\\local\\programs\\python\\python310\\lib\\site-packages (from matplotlib->mediapipe) (9.2.0)\n",
      "Requirement already satisfied: kiwisolver>=1.0.1 in c:\\users\\rohan\\appdata\\local\\programs\\python\\python310\\lib\\site-packages (from matplotlib->mediapipe) (1.4.4)\n",
      "Requirement already satisfied: pyparsing>=2.2.1 in c:\\users\\rohan\\appdata\\local\\programs\\python\\python310\\lib\\site-packages (from matplotlib->mediapipe) (3.0.9)\n",
      "Requirement already satisfied: packaging>=20.0 in c:\\users\\rohan\\appdata\\local\\programs\\python\\python310\\lib\\site-packages (from matplotlib->mediapipe) (21.3)\n",
      "Requirement already satisfied: six>=1.5 in c:\\users\\rohan\\appdata\\local\\programs\\python\\python310\\lib\\site-packages (from python-dateutil>=2.7->matplotlib->mediapipe) (1.16.0)\n"
     ]
    }
   ],
   "source": [
    "!pip install mediapipe opencv-python"
   ]
  },
  {
   "cell_type": "code",
   "execution_count": 102,
   "id": "e11e1239",
   "metadata": {},
   "outputs": [],
   "source": [
    "import cv2\n",
    "import mediapipe as mp\n",
    "import numpy as np\n",
    "mp_drawing = mp.solutions.drawing_utils\n",
    "mp_pose = mp.solutions.pose"
   ]
  },
  {
   "cell_type": "code",
   "execution_count": null,
   "id": "319a2d2b",
   "metadata": {},
   "outputs": [],
   "source": []
  },
  {
   "cell_type": "code",
   "execution_count": 103,
   "id": "032dfd0e",
   "metadata": {},
   "outputs": [
    {
     "data": {
      "text/plain": [
       "33"
      ]
     },
     "execution_count": 103,
     "metadata": {},
     "output_type": "execute_result"
    }
   ],
   "source": [
    "len(landmarks)"
   ]
  },
  {
   "cell_type": "code",
   "execution_count": 104,
   "id": "71d24fcc",
   "metadata": {},
   "outputs": [
    {
     "data": {
      "text/plain": [
       "x: 0.455829381942749\n",
       "y: 0.5317882895469666\n",
       "z: -0.4205965995788574\n",
       "visibility: 0.9981217384338379"
      ]
     },
     "execution_count": 104,
     "metadata": {},
     "output_type": "execute_result"
    }
   ],
   "source": [
    "landmarks[mp_pose.PoseLandmark.LEFT_SHOULDER.value]"
   ]
  },
  {
   "cell_type": "code",
   "execution_count": 105,
   "id": "e3a450d8",
   "metadata": {},
   "outputs": [
    {
     "data": {
      "text/plain": [
       "x: 0.3711356818675995\n",
       "y: 0.8973008394241333\n",
       "z: -0.3702087998390198\n",
       "visibility: 0.7746874690055847"
      ]
     },
     "execution_count": 105,
     "metadata": {},
     "output_type": "execute_result"
    }
   ],
   "source": [
    "landmarks[mp_pose.PoseLandmark.LEFT_ELBOW.value]"
   ]
  },
  {
   "cell_type": "code",
   "execution_count": 106,
   "id": "e060e032",
   "metadata": {},
   "outputs": [
    {
     "data": {
      "text/plain": [
       "x: 0.21245141327381134\n",
       "y: 1.0166105031967163\n",
       "z: 0.0010439190082252026\n",
       "visibility: 0.537615954875946"
      ]
     },
     "execution_count": 106,
     "metadata": {},
     "output_type": "execute_result"
    }
   ],
   "source": [
    "landmarks[mp_pose.PoseLandmark.LEFT_WRIST.value]"
   ]
  },
  {
   "cell_type": "code",
   "execution_count": 107,
   "id": "8ad33c1b",
   "metadata": {},
   "outputs": [],
   "source": [
    "#Calculating Angles (gonna try for left arm)\n",
    "def calculate_angle(a, b, c):\n",
    "    \"\"\"\n",
    "    Given three points, calculate the angle between them\n",
    "    \"\"\"\n",
    "    a = np.array(a) # First point\n",
    "    b = np.array(b) # Midpoint\n",
    "    c = np.array(c) # Endpoint\n",
    "    \n",
    "    radians = np.arctan2(c[1]-b[1], c[0] - b[0]) - np.arctan2(a[1] - b[1], a[0] - b[0])\n",
    "    angle = np.abs(radians*180.0/np.pi)\n",
    "    \n",
    "    if angle > 180.0:\n",
    "        angle = 360 - angle #kind of a wrap around\n",
    "    \n",
    "    return angle"
   ]
  },
  {
   "cell_type": "code",
   "execution_count": 108,
   "id": "36121c16",
   "metadata": {},
   "outputs": [],
   "source": [
    "left_shoulder = [landmarks[mp_pose.PoseLandmark.LEFT_SHOULDER.value].x, landmarks[mp_pose.PoseLandmark.LEFT_SHOULDER.value].y]\n",
    "left_elbow = [landmarks[mp_pose.PoseLandmark.LEFT_ELBOW.value].x, landmarks[mp_pose.PoseLandmark.LEFT_ELBOW.value].y]\n",
    "left_wrist = [landmarks[mp_pose.PoseLandmark.LEFT_WRIST.value].x, landmarks[mp_pose.PoseLandmark.LEFT_WRIST.value].y]"
   ]
  },
  {
   "cell_type": "code",
   "execution_count": 109,
   "id": "50bc7aac",
   "metadata": {},
   "outputs": [
    {
     "data": {
      "text/plain": [
       "[0.455829381942749, 0.5317882895469666]"
      ]
     },
     "execution_count": 109,
     "metadata": {},
     "output_type": "execute_result"
    }
   ],
   "source": [
    "left_shoulder"
   ]
  },
  {
   "cell_type": "code",
   "execution_count": 110,
   "id": "1ecc9a22",
   "metadata": {},
   "outputs": [
    {
     "data": {
      "text/plain": [
       "139.98424380524943"
      ]
     },
     "execution_count": 110,
     "metadata": {},
     "output_type": "execute_result"
    }
   ],
   "source": [
    "calculate_angle(left_shoulder, left_elbow, left_wrist)"
   ]
  },
  {
   "cell_type": "code",
   "execution_count": 112,
   "id": "22ab54d2",
   "metadata": {},
   "outputs": [],
   "source": [
    "#Tutorial: Build a Curl Counter\n",
    "\n",
    "\"\"\"\n",
    "the 'cap' code is code that is also used in the movenet implementation. This just opens up the video feed. \n",
    "\"\"\"\n",
    "\n",
    "counter = 0\n",
    "stage = None\n",
    "\n",
    "cap = cv2.VideoCapture(0)\n",
    "#Setting up mediapipe instance (note that tradeoff for having high confidence is the model not possibly picking up on detections)\n",
    "#probably between 0.4-0.5, might need to test a bit more to figure out the optimum value\n",
    "with mp_pose.Pose(min_detection_confidence=0.4, min_tracking_confidence=0.4) as pose:\n",
    "    while cap.isOpened():\n",
    "        ret, frame = cap.read()\n",
    "        \n",
    "        #Recolor Image to RGB (need our image in format of RGB to process it through mediapose)\n",
    "        image = cv2.cvtColor(frame, cv2.COLOR_BGR2RGB)\n",
    "        image.flags.writeable = False\n",
    "        \n",
    "        #passing the image (making the detection)\n",
    "        results = pose.process(image)\n",
    "        \n",
    "        #Recolor back to BGR\n",
    "        image.flags.writeable = True\n",
    "        image = cv2.cvtColor(image, cv2.COLOR_RGB2BGR)\n",
    "        \n",
    "        #Extract Landmarks\n",
    "        try:\n",
    "            landmarks = results.pose_landmarks.landmark\n",
    "            \n",
    "            left_shoulder = [landmarks[mp_pose.PoseLandmark.LEFT_SHOULDER.value].x, landmarks[mp_pose.PoseLandmark.LEFT_SHOULDER.value].y]\n",
    "            left_elbow = [landmarks[mp_pose.PoseLandmark.LEFT_ELBOW.value].x, landmarks[mp_pose.PoseLandmark.LEFT_ELBOW.value].y]\n",
    "            left_wrist = [landmarks[mp_pose.PoseLandmark.LEFT_WRIST.value].x, landmarks[mp_pose.PoseLandmark.LEFT_WRIST.value].y]\n",
    "            \n",
    "            #calculate angle\n",
    "            angle = calculate_angle(left_shoulder, left_elbow, left_wrist)\n",
    "            \n",
    "            #Visualize (purely just to put this on the feed)\n",
    "            cv2.putText(image, str(angle), \n",
    "                        tuple(np.multiply(left_elbow, [640, 480]).astype(int)), \n",
    "                        cv2.FONT_HERSHEY_SIMPLEX, 0.5, (255, 255, 255), 2, cv2.LINE_AA\n",
    "                       )\n",
    "            #Curl Counter Logic (this might need to be better lol)\n",
    "            if angle > 160:\n",
    "                stage = \"down\"\n",
    "            if angle < 30 and stage == \"down\":\n",
    "                stage = \"up\"\n",
    "                counter += 1\n",
    "                #print(counter)\n",
    "\n",
    "        except:\n",
    "            pass #this is here b/c sometimes the webcam may not pick something up, so we just want our program to continue\n",
    "        \n",
    "        #putting curl counter on the feed\n",
    "        cv2.rectangle(image, (0, 0), (225, 73), (245, 117, 16), -1)\n",
    "        cv2.putText(image, 'REPS', (15, 12), \n",
    "                   cv2.FONT_HERSHEY_SIMPLEX, 0.5, (0, 0, 0), 1, cv2.LINE_AA)\n",
    "        cv2.putText(image, str(counter), \n",
    "                    (10, 60), \n",
    "                    cv2.FONT_HERSHEY_SIMPLEX, 2, (255, 255, 255), 2, cv2.LINE_AA)\n",
    "        \n",
    "        # Render (Display) detections\n",
    "        mp_drawing.draw_landmarks(image, results.pose_landmarks, mp_pose.POSE_CONNECTIONS, \n",
    "                                 mp_drawing.DrawingSpec(color = (245, 117, 66), thickness = 2, circle_radius = 2),\n",
    "                                 mp_drawing.DrawingSpec(color = (245, 66, 230), thickness = 2, circle_radius = 2))\n",
    "        cv2.imshow('MediaPipe Feed', image)\n",
    "\n",
    "        if cv2.waitKey(10) & 0xFF == ord('q'):\n",
    "            break\n",
    "cap.release()\n",
    "cv2.destroyAllWindows()"
   ]
  },
  {
   "cell_type": "code",
   "execution_count": null,
   "id": "a67aa61c",
   "metadata": {},
   "outputs": [],
   "source": []
  }
 ],
 "metadata": {
  "kernelspec": {
   "display_name": "Python 3 (ipykernel)",
   "language": "python",
   "name": "python3"
  },
  "language_info": {
   "codemirror_mode": {
    "name": "ipython",
    "version": 3
   },
   "file_extension": ".py",
   "mimetype": "text/x-python",
   "name": "python",
   "nbconvert_exporter": "python",
   "pygments_lexer": "ipython3",
   "version": "3.10.5"
  }
 },
 "nbformat": 4,
 "nbformat_minor": 5
}
